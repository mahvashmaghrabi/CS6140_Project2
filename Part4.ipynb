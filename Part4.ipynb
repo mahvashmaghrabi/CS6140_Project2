{
 "cells": [
  {
   "cell_type": "code",
   "execution_count": null,
   "id": "88b9f9ad",
   "metadata": {},
   "outputs": [],
   "source": [
    "## Author: Sruti Munukutla\n",
    "## Project 2: Part 4"
   ]
  },
  {
   "cell_type": "code",
   "execution_count": 1,
   "id": "8d58131e",
   "metadata": {},
   "outputs": [],
   "source": [
    "import numpy as np\n",
    "X_train = np.loadtxt(\"UCI HAR Dataset/train/X_train.txt\", dtype=float)\n",
    "Y_train = np.loadtxt(\"UCI HAR Dataset/train/y_train.txt\", dtype=float)\n",
    "X_test = np.loadtxt(\"UCI HAR Dataset/test/X_test.txt\", dtype=float)\n",
    "y_actual = np.loadtxt(\"UCI HAR Dataset/test/y_test.txt\", dtype=float)\n"
   ]
  },
  {
   "cell_type": "code",
   "execution_count": 2,
   "id": "99c1730f",
   "metadata": {},
   "outputs": [
    {
     "name": "stdout",
     "output_type": "stream",
     "text": [
      "Accuracy: 0.8859857482185273\n"
     ]
    }
   ],
   "source": [
    "from sklearn.model_selection import train_test_split\n",
    "from sklearn.neighbors import KNeighborsClassifier\n",
    "from sklearn import metrics\n",
    "\n",
    "\n",
    "knn = KNeighborsClassifier(n_neighbors=100)\n",
    "knn.fit(X_train, Y_train)\n",
    "y_pred = knn.predict(X_test)\n",
    "\n",
    "print(\"Accuracy:\",metrics.accuracy_score(y_actual, y_pred))"
   ]
  },
  {
   "cell_type": "code",
   "execution_count": 3,
   "id": "acc0bab6",
   "metadata": {},
   "outputs": [],
   "source": [
    "# from sklearn.preprocessing import StandardScaler\n",
    "# from sklearn import metrics\n",
    "# from sklearn.decomposition import PCA\n",
    "\n",
    "\n",
    "# scaler = StandardScaler()\n",
    "\n",
    "\n",
    "# # Fit on training set only.\n",
    "# scaler.fit(X_train)\n",
    "\n",
    "# # Apply transform to both the training set and the test set.\n",
    "# X_train = scaler.transform(X_train)\n",
    "# X_test = scaler.transform(X_test)\n",
    "# pca = PCA(.90)\n",
    "# pca.fit(X_train)\n",
    "# print(pca.n_components_)\n",
    "# X_train = pca.transform(X_train)\n",
    "# X_test = pca.transform(X_test)\n",
    "\n",
    "# knn = KNeighborsClassifier(n_neighbors=10)\n",
    "# knn.fit(X_train, y_train)\n",
    "# y_pred = knn.predict(X_test)\n",
    "# #Import scikit-learn metrics module for accuracy calculation\n",
    "# # Model Accuracy, how often is the classifier correct?\n",
    "# print(\"Accuracy:\",metrics.accuracy_score(y_test, y_pred))"
   ]
  },
  {
   "cell_type": "code",
   "execution_count": 142,
   "id": "66a85b6f",
   "metadata": {},
   "outputs": [],
   "source": [
    "import pandas as pd\n",
    "import sys\n",
    "import numpy as np\n",
    "\n",
    "\n",
    "def pca(A, normalize=False):\n",
    "    cols = len(A[0])\n",
    "    rows = len(A)\n",
    "    \n",
    "    result = []\n",
    "    # assign to m the mean values of the columns of A\n",
    "    m = A.mean(axis=0)\n",
    "    result.append(m)\n",
    "\n",
    "    # assign to D the difference matrix A - m\n",
    "    D = A - m\n",
    "\n",
    "    if normalize:\n",
    "        sd = np.std(D, axis=0)\n",
    "    else:\n",
    "        sd = [1 for x in range(0, cols)]\n",
    "    result.append(sd)\n",
    "    # Assign all 1s to the standard deviation vector (1 for each column)\n",
    "\n",
    "    # Divide each column by its standard deviation vector\n",
    "    #    (hint: this can be done as a single operation)\n",
    "    D = np.divide(D, sd)\n",
    "\n",
    "    result.append(D)\n",
    "\n",
    "    # assign to U, S, V the result of running np.svd on D, with full_matrices=False\n",
    "    U, S, V = np.linalg.svd(D)\n",
    "\n",
    "    S_square = np.square(S)\n",
    "    eigenvalues = np.divide(S_square, (rows - 1))\n",
    "    result.append(eigenvalues)\n",
    "\n",
    "    # the eigenvalues of cov(A) are the squares of the singular values (S matrix)\n",
    "    #   divided by the degrees of freedom (N-1). The values are sorted.\n",
    "    result.append(V)\n",
    "\n",
    "    projected_data = np.matmul(V,np.transpose(D))\n",
    "    projected_data = np.transpose(projected_data)\n",
    "    result.append(projected_data)\n",
    "    # project the data onto the eigenvectors. Treat V as a transformation\n",
    "    #   matrix and right-multiply it by D transpose. The eigenvectors of A\n",
    "    #   are the rows of V. The eigenvectors match the order of the eigenvalues.\n",
    "\n",
    "    # create a new data frame out of the projected data\n",
    "    # return the means, standard deviations, eigenvalues, eigenvectors, and projected data\n",
    "#     result: m, sd, D, eigenvalues, V, projected_data\n",
    "    return result\n",
    "\n",
    "result = pca(X_train)\n",
    "eigenvalues = result[3]\n",
    "total_sum = sum(eigenvalues)\n",
    "running_sum = 0\n",
    "dimensions = 0\n",
    "\n",
    "for value in eigenvalues:\n",
    "    running_sum += value\n",
    "    if running_sum/total_sum >= 0.9:\n",
    "        dimensions += 1\n",
    "        break\n",
    "    dimensions += 1\n",
    "\n",
    "projected_data = result[5]\n",
    "df_data = pd.DataFrame(projected_data)\n",
    "reduced_dimension_data = df_data.iloc[: , :dimensions]\n",
    "\n",
    "        "
   ]
  },
  {
   "cell_type": "code",
   "execution_count": 143,
   "id": "10005495",
   "metadata": {},
   "outputs": [],
   "source": [
    "training_set_mean = result[0]\n",
    "D_test = np.array(X_test) - training_set_mean\n",
    "training_set_sd = np.array(result[1])\n",
    "D_test = np.divide(D_test, training_set_sd)\n",
    "eigenvectors_training = result[4]\n",
    "D_test = np.matmul(eigenvectors_training, np.transpose(D_test))\n",
    "df_test_data = pd.DataFrame(D_test)\n",
    "df_test_data = np.transpose(df_test_data)\n",
    "\n",
    "reduced_dimension_test_data = df_test_data.iloc[: , :dimensions]\n",
    "# print(reduced_dimension_test_data)"
   ]
  },
  {
   "cell_type": "code",
   "execution_count": 146,
   "id": "01fcdb17",
   "metadata": {},
   "outputs": [
    {
     "name": "stdout",
     "output_type": "stream",
     "text": [
      "Accuracy: 0.8771632168306752\n"
     ]
    }
   ],
   "source": [
    "knn = KNeighborsClassifier(n_neighbors=100)\n",
    "knn.fit(reduced_dimension_data, Y_train)\n",
    "y_pred = knn.predict(reduced_dimension_test_data)\n",
    "\n",
    "print(\"Accuracy:\",metrics.accuracy_score(y_actual, y_pred))"
   ]
  },
  {
   "cell_type": "code",
   "execution_count": null,
   "id": "84926245",
   "metadata": {},
   "outputs": [],
   "source": []
  }
 ],
 "metadata": {
  "kernelspec": {
   "display_name": "Python 3 (ipykernel)",
   "language": "python",
   "name": "python3"
  },
  "language_info": {
   "codemirror_mode": {
    "name": "ipython",
    "version": 3
   },
   "file_extension": ".py",
   "mimetype": "text/x-python",
   "name": "python",
   "nbconvert_exporter": "python",
   "pygments_lexer": "ipython3",
   "version": "3.9.12"
  }
 },
 "nbformat": 4,
 "nbformat_minor": 5
}
