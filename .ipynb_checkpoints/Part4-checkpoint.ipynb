{
 "cells": [
  {
   "cell_type": "markdown",
   "id": "80c3a57c",
   "metadata": {},
   "source": [
    "## Author: Sruti Munukutla\n",
    "## Project 2: Part 4"
   ]
  },
  {
   "cell_type": "code",
   "execution_count": 3,
   "id": "8d58131e",
   "metadata": {},
   "outputs": [
    {
     "name": "stdout",
     "output_type": "stream",
     "text": [
      "[[ 0.28858451 -0.02029417 -0.13290514 ... -0.84124676  0.17994061\n",
      "  -0.05862692]\n",
      " [ 0.27841883 -0.01641057 -0.12352019 ... -0.8447876   0.18028889\n",
      "  -0.05431672]\n",
      " [ 0.27965306 -0.01946716 -0.11346169 ... -0.84893347  0.18063731\n",
      "  -0.04911782]\n",
      " ...\n",
      " [ 0.27338737 -0.01701062 -0.04502183 ... -0.77913261  0.24914484\n",
      "   0.04081119]\n",
      " [ 0.28965416 -0.01884304 -0.15828059 ... -0.78518142  0.24643223\n",
      "   0.02533948]\n",
      " [ 0.35150347 -0.01242312 -0.20386717 ... -0.78326693  0.24680852\n",
      "   0.03669484]]\n",
      "[5. 5. 5. ... 2. 2. 2.]\n"
     ]
    }
   ],
   "source": [
    "import numpy as np\n",
    "X = np.loadtxt(\"UCI HAR Dataset/train/X_train.txt\", dtype=float)\n",
    "y = np.loadtxt(\"UCI HAR Dataset/train/y_train.txt\", dtype=float)\n",
    "print(X)\n",
    "print(y)"
   ]
  },
  {
   "cell_type": "code",
   "execution_count": 32,
   "id": "99c1730f",
   "metadata": {},
   "outputs": [
    {
     "name": "stdout",
     "output_type": "stream",
     "text": [
      "Accuracy: 0.9619151251360174\n"
     ]
    }
   ],
   "source": [
    "from sklearn.model_selection import train_test_split\n",
    "\n",
    "SEED = 42\n",
    "X_train, X_test, y_train, y_test = train_test_split(X, y, test_size=0.25, random_state=SEED)\n",
    "from sklearn.neighbors import KNeighborsClassifier\n",
    "knn = KNeighborsClassifier(n_neighbors=15)\n",
    "knn.fit(X_train, y_train)\n",
    "y_pred = knn.predict(X_test)\n",
    "#Import scikit-learn metrics module for accuracy calculation\n",
    "from sklearn import metrics\n",
    "# Model Accuracy, how often is the classifier correct?\n",
    "print(\"Accuracy:\",metrics.accuracy_score(y_test, y_pred))"
   ]
  },
  {
   "cell_type": "code",
   "execution_count": 43,
   "id": "acc0bab6",
   "metadata": {},
   "outputs": [
    {
     "name": "stdout",
     "output_type": "stream",
     "text": [
      "43\n",
      "Accuracy: 0.8482045701849836\n"
     ]
    }
   ],
   "source": [
    "from sklearn.preprocessing import StandardScaler\n",
    "from sklearn import metrics\n",
    "from sklearn.decomposition import PCA\n",
    "\n",
    "\n",
    "scaler = StandardScaler()\n",
    "\n",
    "\n",
    "# Fit on training set only.\n",
    "scaler.fit(X_train)\n",
    "\n",
    "# Apply transform to both the training set and the test set.\n",
    "X_train = scaler.transform(X_train)\n",
    "X_test = scaler.transform(X_test)\n",
    "pca = PCA(.90)\n",
    "pca.fit(X_train)\n",
    "print(pca.n_components_)\n",
    "X_train = pca.transform(X_train)\n",
    "X_test = pca.transform(X_test)\n",
    "\n",
    "knn = KNeighborsClassifier(n_neighbors=10)\n",
    "knn.fit(X_train, y_train)\n",
    "y_pred = knn.predict(X_test)\n",
    "#Import scikit-learn metrics module for accuracy calculation\n",
    "# Model Accuracy, how often is the classifier correct?\n",
    "print(\"Accuracy:\",metrics.accuracy_score(y_test, y_pred))"
   ]
  },
  {
   "cell_type": "code",
   "execution_count": null,
   "id": "35934602",
   "metadata": {},
   "outputs": [],
   "source": []
  },
  {
   "cell_type": "code",
   "execution_count": 45,
   "id": "66a85b6f",
   "metadata": {},
   "outputs": [
    {
     "name": "stdout",
     "output_type": "stream",
     "text": [
      "Matrix after dividing by standard deviation of each column (Normalized data)\n",
      "Performing SVD\n",
      "Eigenvalues\n",
      "[1.00018139 1.00018139 1.00018139 1.00018139 1.00018139 1.00018139\n",
      " 1.00018139 1.00018139 1.00018139 1.00018139 1.00018139 1.00018139\n",
      " 1.00018139 1.00018139 1.00018139 1.00018139 1.00018139 1.00018139\n",
      " 1.00018139 1.00018139 1.00018139 1.00018139 1.00018139 1.00018139\n",
      " 1.00018139 1.00018139 1.00018139 1.00018139 1.00018139 1.00018139\n",
      " 1.00018139 1.00018139 1.00018139 1.00018139 1.00018139 1.00018139\n",
      " 1.00018139 1.00018139 1.00018139 1.00018139 1.00018139 1.00018139\n",
      " 1.00018139]\n",
      "projected data\n",
      "[[-3.13583141  1.03220521 -0.91283434 ...  1.08935772 -0.05059017\n",
      "   1.77593558]\n",
      " [ 0.11397283  0.6510202  -0.68600786 ...  1.746048    0.95456212\n",
      "  -1.00451384]\n",
      " [ 0.44303288 -0.66796479  0.22432924 ... -0.9710963  -0.44331655\n",
      "   0.43960175]\n",
      " ...\n",
      " [ 0.10963391 -1.00223334 -0.36033342 ...  0.26060152  0.7348669\n",
      "   0.68080191]\n",
      " [ 1.68059466  0.4595212  -0.10193459 ... -0.37760351 -0.27956872\n",
      "   1.42457312]\n",
      " [ 0.061555   -2.66481671 -1.44941142 ... -0.64127732 -0.166788\n",
      "   0.57248909]]\n"
     ]
    }
   ],
   "source": [
    "import pandas as pd\n",
    "import sys\n",
    "import numpy as np\n",
    "\n",
    "\n",
    "def pca(A, normalize=False):\n",
    "    # assign to A the data as a numpy matrix\n",
    "#     A = data.to_numpy()\n",
    "    cols = len(A[0])\n",
    "    rows = len(A)\n",
    "#     print(A)\n",
    "\n",
    "    # assign to m the mean values of the columns of A\n",
    "    m = A.mean(axis=0)\n",
    "#     print(\"m -> Mean\")\n",
    "#     print(m)\n",
    "\n",
    "    # assign to D the difference matrix A - m\n",
    "    D = A - m\n",
    "#     print(\"D -> difference: A - mean\")\n",
    "#     print(D)\n",
    "\n",
    "    if normalize:\n",
    "        sd = np.std(D, axis=0)\n",
    "        print(\"Standard deviation\")\n",
    "#         print(sd)\n",
    "    else:\n",
    "        sd = [1 for x in range(0, cols)]\n",
    "#         print(sd)\n",
    "\n",
    "    # Assign all 1s to the standard deviation vector (1 for each column)\n",
    "\n",
    "    # Divide each column by its standard deviation vector\n",
    "    #    (hint: this can be done as a single operation)\n",
    "    D = np.divide(D, sd)\n",
    "    print(\n",
    "        \"Matrix after dividing by standard deviation of each column (Normalized data)\"\n",
    "    )\n",
    "#     print(D)\n",
    "\n",
    "    # assign to U, S, V the result of running np.svd on D, with full_matrices=False\n",
    "    print(\"Performing SVD\")\n",
    "    U, S, V = np.linalg.svd(D)\n",
    "#     print(U)\n",
    "#     print(\"S\")\n",
    "#     print(S)\n",
    "\n",
    "    print(\"Eigenvalues\")\n",
    "    S_square = np.square(S)\n",
    "    eigenvalues = np.divide(S_square, (rows - 1))\n",
    "    print(eigenvalues)\n",
    "\n",
    "    # the eigenvalues of cov(A) are the squares of the singular values (S matrix)\n",
    "    #   divided by the degrees of freedom (N-1). The values are sorted.\n",
    "#     print(\"Eigenvectors\")\n",
    "#     print(V)\n",
    "\n",
    "    projected_data = np.matmul(V, np.transpose(D))\n",
    "    print(\"projected data\")\n",
    "    print(np.transpose(projected_data))\n",
    "    # project the data onto the eigenvectors. Treat V as a transformation\n",
    "    #   matrix and right-multiply it by D transpose. The eigenvectors of A\n",
    "    #   are the rows of V. The eigenvectors match the order of the eigenvalues.\n",
    "\n",
    "    # create a new data frame out of the projected data\n",
    "    # return the means, standard deviations, eigenvalues, eigenvectors, and projected data\n",
    "    return projected_data, eigenvalues\n",
    "\n",
    "projected_data, eigenvalues = pca(X_train)"
   ]
  },
  {
   "cell_type": "code",
   "execution_count": null,
   "id": "01fcdb17",
   "metadata": {},
   "outputs": [],
   "source": []
  }
 ],
 "metadata": {
  "kernelspec": {
   "display_name": "Python 3 (ipykernel)",
   "language": "python",
   "name": "python3"
  },
  "language_info": {
   "codemirror_mode": {
    "name": "ipython",
    "version": 3
   },
   "file_extension": ".py",
   "mimetype": "text/x-python",
   "name": "python",
   "nbconvert_exporter": "python",
   "pygments_lexer": "ipython3",
   "version": "3.9.12"
  }
 },
 "nbformat": 4,
 "nbformat_minor": 5
}
