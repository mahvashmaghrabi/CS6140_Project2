{
 "cells": [
  {
   "cell_type": "markdown",
   "id": "c214a778",
   "metadata": {},
   "source": [
    "## Author: Sruti Munukutla\n",
    "## Part 1 Project 2"
   ]
  },
  {
   "cell_type": "code",
   "execution_count": 94,
   "id": "b956afa0",
   "metadata": {},
   "outputs": [
    {
     "name": "stdout",
     "output_type": "stream",
     "text": [
      "Training dataset filename: training_dataset_0.25.csv\n",
      "75.0% training data containing 551 samples\n",
      "Test dataset filename: test_dataset_0.25.csv\n",
      "25.0% test data containing 184 samples\n"
     ]
    }
   ],
   "source": [
    "### split data into test and train datasets (25% random test data)\n",
    "%run -i 'split_data.py'"
   ]
  },
  {
   "cell_type": "code",
   "execution_count": 192,
   "id": "9fe08f6c",
   "metadata": {},
   "outputs": [
    {
     "data": {
      "text/html": [
       "<div>\n",
       "<style scoped>\n",
       "    .dataframe tbody tr th:only-of-type {\n",
       "        vertical-align: middle;\n",
       "    }\n",
       "\n",
       "    .dataframe tbody tr th {\n",
       "        vertical-align: top;\n",
       "    }\n",
       "\n",
       "    .dataframe thead th {\n",
       "        text-align: right;\n",
       "    }\n",
       "</style>\n",
       "<table border=\"1\" class=\"dataframe\">\n",
       "  <thead>\n",
       "    <tr style=\"text-align: right;\">\n",
       "      <th></th>\n",
       "      <th>Index</th>\n",
       "      <th>Age</th>\n",
       "      <th>Hours per day</th>\n",
       "      <th>Frequency [Classical]</th>\n",
       "      <th>Frequency [Country]</th>\n",
       "      <th>Frequency [EDM]</th>\n",
       "      <th>Frequency [Hip hop]</th>\n",
       "      <th>Frequency [Jazz]</th>\n",
       "      <th>Frequency [K pop]</th>\n",
       "      <th>Frequency [Lofi]</th>\n",
       "      <th>Frequency [Metal]</th>\n",
       "      <th>Frequency [Pop]</th>\n",
       "      <th>Frequency [R&amp;B]</th>\n",
       "      <th>Frequency [Rap]</th>\n",
       "      <th>Frequency [Rock]</th>\n",
       "      <th>Frequency [Video game music]</th>\n",
       "      <th>Anxiety</th>\n",
       "      <th>Depression</th>\n",
       "      <th>Insomnia</th>\n",
       "      <th>OCD</th>\n",
       "    </tr>\n",
       "  </thead>\n",
       "  <tbody>\n",
       "    <tr>\n",
       "      <th>0</th>\n",
       "      <td>1</td>\n",
       "      <td>18</td>\n",
       "      <td>3.0</td>\n",
       "      <td>1</td>\n",
       "      <td>0</td>\n",
       "      <td>1</td>\n",
       "      <td>2</td>\n",
       "      <td>0</td>\n",
       "      <td>3</td>\n",
       "      <td>1</td>\n",
       "      <td>0</td>\n",
       "      <td>3</td>\n",
       "      <td>2</td>\n",
       "      <td>3</td>\n",
       "      <td>0</td>\n",
       "      <td>2</td>\n",
       "      <td>3.0</td>\n",
       "      <td>0.0</td>\n",
       "      <td>1.0</td>\n",
       "      <td>0.0</td>\n",
       "    </tr>\n",
       "    <tr>\n",
       "      <th>1</th>\n",
       "      <td>2</td>\n",
       "      <td>63</td>\n",
       "      <td>1.5</td>\n",
       "      <td>2</td>\n",
       "      <td>0</td>\n",
       "      <td>0</td>\n",
       "      <td>1</td>\n",
       "      <td>3</td>\n",
       "      <td>1</td>\n",
       "      <td>1</td>\n",
       "      <td>0</td>\n",
       "      <td>2</td>\n",
       "      <td>2</td>\n",
       "      <td>1</td>\n",
       "      <td>3</td>\n",
       "      <td>1</td>\n",
       "      <td>7.0</td>\n",
       "      <td>2.0</td>\n",
       "      <td>2.0</td>\n",
       "      <td>1.0</td>\n",
       "    </tr>\n",
       "    <tr>\n",
       "      <th>2</th>\n",
       "      <td>3</td>\n",
       "      <td>18</td>\n",
       "      <td>4.0</td>\n",
       "      <td>0</td>\n",
       "      <td>0</td>\n",
       "      <td>3</td>\n",
       "      <td>1</td>\n",
       "      <td>1</td>\n",
       "      <td>3</td>\n",
       "      <td>2</td>\n",
       "      <td>2</td>\n",
       "      <td>1</td>\n",
       "      <td>0</td>\n",
       "      <td>1</td>\n",
       "      <td>1</td>\n",
       "      <td>3</td>\n",
       "      <td>7.0</td>\n",
       "      <td>7.0</td>\n",
       "      <td>10.0</td>\n",
       "      <td>2.0</td>\n",
       "    </tr>\n",
       "    <tr>\n",
       "      <th>3</th>\n",
       "      <td>4</td>\n",
       "      <td>61</td>\n",
       "      <td>2.5</td>\n",
       "      <td>2</td>\n",
       "      <td>0</td>\n",
       "      <td>0</td>\n",
       "      <td>0</td>\n",
       "      <td>3</td>\n",
       "      <td>2</td>\n",
       "      <td>2</td>\n",
       "      <td>0</td>\n",
       "      <td>2</td>\n",
       "      <td>2</td>\n",
       "      <td>0</td>\n",
       "      <td>0</td>\n",
       "      <td>0</td>\n",
       "      <td>9.0</td>\n",
       "      <td>7.0</td>\n",
       "      <td>3.0</td>\n",
       "      <td>3.0</td>\n",
       "    </tr>\n",
       "    <tr>\n",
       "      <th>4</th>\n",
       "      <td>5</td>\n",
       "      <td>18</td>\n",
       "      <td>4.0</td>\n",
       "      <td>0</td>\n",
       "      <td>0</td>\n",
       "      <td>1</td>\n",
       "      <td>3</td>\n",
       "      <td>0</td>\n",
       "      <td>3</td>\n",
       "      <td>2</td>\n",
       "      <td>0</td>\n",
       "      <td>2</td>\n",
       "      <td>3</td>\n",
       "      <td>3</td>\n",
       "      <td>0</td>\n",
       "      <td>1</td>\n",
       "      <td>7.0</td>\n",
       "      <td>2.0</td>\n",
       "      <td>5.0</td>\n",
       "      <td>9.0</td>\n",
       "    </tr>\n",
       "  </tbody>\n",
       "</table>\n",
       "</div>"
      ],
      "text/plain": [
       "   Index  Age  Hours per day  Frequency [Classical]  Frequency [Country]  \\\n",
       "0      1   18            3.0                      1                    0   \n",
       "1      2   63            1.5                      2                    0   \n",
       "2      3   18            4.0                      0                    0   \n",
       "3      4   61            2.5                      2                    0   \n",
       "4      5   18            4.0                      0                    0   \n",
       "\n",
       "   Frequency [EDM]  Frequency [Hip hop]  Frequency [Jazz]  Frequency [K pop]  \\\n",
       "0                1                    2                 0                  3   \n",
       "1                0                    1                 3                  1   \n",
       "2                3                    1                 1                  3   \n",
       "3                0                    0                 3                  2   \n",
       "4                1                    3                 0                  3   \n",
       "\n",
       "   Frequency [Lofi]  Frequency [Metal]  Frequency [Pop]  Frequency [R&B]  \\\n",
       "0                 1                  0                3                2   \n",
       "1                 1                  0                2                2   \n",
       "2                 2                  2                1                0   \n",
       "3                 2                  0                2                2   \n",
       "4                 2                  0                2                3   \n",
       "\n",
       "   Frequency [Rap]  Frequency [Rock]  Frequency [Video game music]  Anxiety  \\\n",
       "0                3                 0                             2      3.0   \n",
       "1                1                 3                             1      7.0   \n",
       "2                1                 1                             3      7.0   \n",
       "3                0                 0                             0      9.0   \n",
       "4                3                 0                             1      7.0   \n",
       "\n",
       "   Depression  Insomnia  OCD  \n",
       "0         0.0       1.0  0.0  \n",
       "1         2.0       2.0  1.0  \n",
       "2         7.0      10.0  2.0  \n",
       "3         7.0       3.0  3.0  \n",
       "4         2.0       5.0  9.0  "
      ]
     },
     "execution_count": 192,
     "metadata": {},
     "output_type": "execute_result"
    }
   ],
   "source": [
    "df_train = pd.read_csv(train_file)\n",
    "df_train.head(5)"
   ]
  },
  {
   "cell_type": "code",
   "execution_count": null,
   "id": "c79d4384",
   "metadata": {},
   "outputs": [],
   "source": [
    "## Computing Distance metric - Euclidean Distance"
   ]
  },
  {
   "cell_type": "code",
   "execution_count": 152,
   "id": "b00f3b1c",
   "metadata": {},
   "outputs": [],
   "source": [
    "import pandas as pd\n",
    "import numpy as np\n",
    "import matplotlib.pyplot as plt\n",
    "\n",
    "### returns the euclidean distance array between 2 set of points\n",
    "def get_euclidean_distance(X_test, X_train):\n",
    "    dist = []\n",
    "    for test_pt in X_test:\n",
    "        row_distance = []\n",
    "        for train_pt in X_train:\n",
    "            row_distance.append(np.linalg.norm(test_pt - train_pt, ord=2))\n",
    "        dist.append(row_distance)\n",
    "    return dist"
   ]
  },
  {
   "cell_type": "code",
   "execution_count": null,
   "id": "6f6125a3",
   "metadata": {},
   "outputs": [],
   "source": [
    "## Compute predicted y for the test set from distances."
   ]
  },
  {
   "cell_type": "code",
   "execution_count": null,
   "id": "29bd9f5e",
   "metadata": {},
   "outputs": [],
   "source": [
    "def get_predicted_y(Y_train, X_test, X_train):\n",
    "    dist = get_euclidean_distance(X_test, X_train)\n",
    "    result = []\n",
    "    for row in dist:\n",
    "        predicted_y = Y_train[np.argmin(row)]\n",
    "        result.append(predicted_y)\n",
    "    return result\n",
    "\n",
    "train_file = 'training_dataset_0.25.csv'\n",
    "test_file = 'test_dataset_0.25.csv'\n",
    "df_train = pd.read_csv(train_file)\n",
    "\n",
    "#training data which consists of all the independent variables\n",
    "X_train_df = df_train.loc[:, \"Frequency [Classical]\":\"Frequency [Video game music]\"]\n",
    "X_train = np.array(X_train_df)\n",
    "Y_train = df_train['Anxiety'].tolist()\n",
    "#to-predicted values/y_expected of test data\n",
    "\n",
    "df_test = pd.read_csv(test_file)\n",
    "Y_test = df_test['Anxiety'].tolist()\n",
    "\n",
    "\n",
    "X_test_df = df_test.loc[:, \"Frequency [Classical]\":\"Frequency [Video game music]\"]\n",
    "X_test = np.array(X_test_df)\n",
    "\n",
    "\n",
    "y = get_predicted_y(Y_train, X_test, X_train)"
   ]
  },
  {
   "cell_type": "code",
   "execution_count": 193,
   "id": "fcd1ba14",
   "metadata": {},
   "outputs": [
    {
     "name": "stdout",
     "output_type": "stream",
     "text": [
      "Accuracy: 14.673913043478262%\n"
     ]
    },
    {
     "data": {
      "image/png": "[encoded data removed]",
      "text/plain": [
       "<Figure size 500x500 with 2 Axes>"
      ]
     },
     "metadata": {},
     "output_type": "display_data"
    }
   ],
   "source": [
    "def get_accuracy(y, Y_test):\n",
    "    total_points = len(y)\n",
    "    counter = 1\n",
    "    for i in range(0, len(y)):\n",
    "        if y[i] == Y_test[i]:\n",
    "            counter += 1\n",
    "    return (counter/total_points)*100\n",
    "\n",
    "print('Accuracy: ' + str(get_accuracy(y, Y_test)) + '%')\n",
    "\n",
    "from sklearn.metrics import confusion_matrix, ConfusionMatrixDisplay\n",
    "\n",
    "confusion_matrix(Y_test, y)\n",
    "fig, ax = plt.subplots(figsize=(5, 5))\n",
    "ConfusionMatrixDisplay.from_predictions(Y_test, y, ax=ax)\n",
    "plt.show()\n"
   ]
  },
  {
   "cell_type": "code",
   "execution_count": 172,
   "id": "3fed3023",
   "metadata": {},
   "outputs": [],
   "source": [
    "from collections import Counter\n",
    "\n",
    "def knn(k, X_train, Y_train, X_test):\n",
    "    dist = get_euclidean_distance(X_test, X_train)\n",
    "    result = []\n",
    "    for row in dist:\n",
    "        k_closest = sorted(range(len(row)), key=lambda x: row[x])[:k] \n",
    "        possible_y = Counter([Y_train[x] for x in k_closest])\n",
    "        predicted_y = max(possible_y, key=possible_y.get)\n",
    "        result.append(predicted_y)\n",
    "    return result"
   ]
  },
  {
   "cell_type": "code",
   "execution_count": 200,
   "id": "60ce12d4",
   "metadata": {},
   "outputs": [
    {
     "name": "stdout",
     "output_type": "stream",
     "text": [
      "14.673913043478262\n"
     ]
    },
    {
     "data": {
      "image/png": "[encoded data removed]",
      "text/plain": [
       "<Figure size 500x500 with 1 Axes>"
      ]
     },
     "metadata": {},
     "output_type": "display_data"
    }
   ],
   "source": [
    "y = knn(15, X_train, Y_train, X_test)\n",
    "print(get_accuracy(y, Y_test))\n",
    "\n",
    "from sklearn.metrics import confusion_matrix, ConfusionMatrixDisplay\n",
    "confusion_matrix(Y_test, y)\n",
    "\n",
    "fig, ax = plt.subplots(figsize=(5, 5))\n",
    "ConfusionMatrixDisplay.from_predictions(\n",
    "    Y_test, y, ax=ax, colorbar=False\n",
    ")\n",
    "plt.show()\n"
   ]
  },
  {
   "cell_type": "code",
   "execution_count": null,
   "id": "1a608399",
   "metadata": {},
   "outputs": [],
   "source": []
  }
 ],
 "metadata": {
  "kernelspec": {
   "display_name": "Python 3 (ipykernel)",
   "language": "python",
   "name": "python3"
  },
  "language_info": {
   "codemirror_mode": {
    "name": "ipython",
    "version": 3
   },
   "file_extension": ".py",
   "mimetype": "text/x-python",
   "name": "python",
   "nbconvert_exporter": "python",
   "pygments_lexer": "ipython3",
   "version": "3.9.12"
  }
 },
 "nbformat": 4,
 "nbformat_minor": 5
}
